{
 "cells": [
  {
   "cell_type": "code",
   "execution_count": 26,
   "metadata": {},
   "outputs": [
    {
     "name": "stdout",
     "output_type": "stream",
     "text": [
      "(250, 35)\n"
     ]
    }
   ],
   "source": [
    "import pandas as pd\n",
    "import requests\n",
    "\n",
    "url = 'https://restcountries.com/v3.1/all'\n",
    "response = requests.get(url)\n",
    "data = response.json()\n",
    "df = pd.DataFrame(data)"
   ]
  },
  {
   "attachments": {},
   "cell_type": "markdown",
   "metadata": {},
   "source": [
    "### Exploracion simple"
   ]
  },
  {
   "attachments": {},
   "cell_type": "markdown",
   "metadata": {},
   "source": [
    "##### La API seleccionada es llamada Restful Countries, permite a los usuarios explorar información sobre países y sus estados, presidentes, banderas, población, estadísticas de COVID-19 y otros datos."
   ]
  },
  {
   "cell_type": "code",
   "execution_count": 30,
   "metadata": {},
   "outputs": [
    {
     "name": "stdout",
     "output_type": "stream",
     "text": [
      "(250, 35)\n"
     ]
    }
   ],
   "source": [
    "print(df.shape)"
   ]
  },
  {
   "cell_type": "code",
   "execution_count": 27,
   "metadata": {},
   "outputs": [
    {
     "name": "stdout",
     "output_type": "stream",
     "text": [
      "name             object\n",
      "tld              object\n",
      "cca2             object\n",
      "ccn3             object\n",
      "cca3             object\n",
      "cioc             object\n",
      "independent      object\n",
      "status           object\n",
      "unMember           bool\n",
      "currencies       object\n",
      "idd              object\n",
      "capital          object\n",
      "altSpellings     object\n",
      "region           object\n",
      "subregion        object\n",
      "languages        object\n",
      "translations     object\n",
      "latlng           object\n",
      "landlocked         bool\n",
      "area            float64\n",
      "demonyms         object\n",
      "flag             object\n",
      "maps             object\n",
      "population        int64\n",
      "fifa             object\n",
      "car              object\n",
      "timezones        object\n",
      "continents       object\n",
      "flags            object\n",
      "coatOfArms       object\n",
      "startOfWeek      object\n",
      "capitalInfo      object\n",
      "postalCode       object\n",
      "borders          object\n",
      "gini             object\n",
      "dtype: object\n"
     ]
    }
   ],
   "source": [
    "print(df.dtypes)"
   ]
  },
  {
   "cell_type": "code",
   "execution_count": 29,
   "metadata": {},
   "outputs": [
    {
     "name": "stdout",
     "output_type": "stream",
     "text": [
      "                                                  name    tld cca2 ccn3 cca3  \\\n",
      "0    {'common': 'Barbados', 'official': 'Barbados',...  [.bb]   BB  052  BRB   \n",
      "1    {'common': 'Réunion', 'official': 'Réunion Isl...  [.re]   RE  638  REU   \n",
      "2    {'common': 'Suriname', 'official': 'Republic o...  [.sr]   SR  740  SUR   \n",
      "3    {'common': 'Namibia', 'official': 'Republic of...  [.na]   NA  516  NAM   \n",
      "4    {'common': 'Guinea', 'official': 'Republic of ...  [.gn]   GN  324  GIN   \n",
      "..                                                 ...    ...  ...  ...  ...   \n",
      "245  {'common': 'Croatia', 'official': 'Republic of...  [.hr]   HR  191  HRV   \n",
      "246  {'common': 'Solomon Islands', 'official': 'Sol...  [.sb]   SB  090  SLB   \n",
      "247  {'common': 'Honduras', 'official': 'Republic o...  [.hn]   HN  340  HND   \n",
      "248  {'common': 'Christmas Island', 'official': 'Te...  [.cx]   CX  162  CXR   \n",
      "249  {'common': 'Puerto Rico', 'official': 'Commonw...  [.pr]   PR  630  PRI   \n",
      "\n",
      "    cioc independent               status  unMember  \\\n",
      "0    BAR        True  officially-assigned      True   \n",
      "1    NaN       False  officially-assigned     False   \n",
      "2    SUR        True  officially-assigned      True   \n",
      "3    NAM        True  officially-assigned      True   \n",
      "4    GUI        True  officially-assigned      True   \n",
      "..   ...         ...                  ...       ...   \n",
      "245  CRO        True  officially-assigned      True   \n",
      "246  SOL        True  officially-assigned      True   \n",
      "247  HON        True  officially-assigned      True   \n",
      "248  NaN       False  officially-assigned     False   \n",
      "249  PUR       False  officially-assigned     False   \n",
      "\n",
      "                                            currencies  \n",
      "0    {'BBD': {'name': 'Barbadian dollar', 'symbol':...  \n",
      "1             {'EUR': {'name': 'Euro', 'symbol': '€'}}  \n",
      "2    {'SRD': {'name': 'Surinamese dollar', 'symbol'...  \n",
      "3    {'NAD': {'name': 'Namibian dollar', 'symbol': ...  \n",
      "4    {'GNF': {'name': 'Guinean franc', 'symbol': 'F...  \n",
      "..                                                 ...  \n",
      "245           {'EUR': {'name': 'Euro', 'symbol': '€'}}  \n",
      "246  {'SBD': {'name': 'Solomon Islands dollar', 'sy...  \n",
      "247  {'HNL': {'name': 'Honduran lempira', 'symbol':...  \n",
      "248  {'AUD': {'name': 'Australian dollar', 'symbol'...  \n",
      "249  {'USD': {'name': 'United States dollar', 'symb...  \n",
      "\n",
      "[250 rows x 10 columns]\n"
     ]
    }
   ],
   "source": [
    "print(df.iloc[:, :10])"
   ]
  },
  {
   "cell_type": "code",
   "execution_count": 28,
   "metadata": {},
   "outputs": [
    {
     "name": "stdout",
     "output_type": "stream",
     "text": [
      "                                                name    tld cca2 ccn3 cca3  \\\n",
      "0  {'common': 'Barbados', 'official': 'Barbados',...  [.bb]   BB  052  BRB   \n",
      "1  {'common': 'Réunion', 'official': 'Réunion Isl...  [.re]   RE  638  REU   \n",
      "2  {'common': 'Suriname', 'official': 'Republic o...  [.sr]   SR  740  SUR   \n",
      "3  {'common': 'Namibia', 'official': 'Republic of...  [.na]   NA  516  NAM   \n",
      "4  {'common': 'Guinea', 'official': 'Republic of ...  [.gn]   GN  324  GIN   \n",
      "5  {'common': 'Vanuatu', 'official': 'Republic of...  [.vu]   VU  548  VUT   \n",
      "6  {'common': 'Samoa', 'official': 'Independent S...  [.ws]   WS  882  WSM   \n",
      "7  {'common': 'France', 'official': 'French Repub...  [.fr]   FR  250  FRA   \n",
      "8  {'common': 'Andorra', 'official': 'Principalit...  [.ad]   AD  020  AND   \n",
      "9  {'common': 'Azerbaijan', 'official': 'Republic...  [.az]   AZ  031  AZE   \n",
      "\n",
      "  cioc independent               status  unMember  \\\n",
      "0  BAR        True  officially-assigned      True   \n",
      "1  NaN       False  officially-assigned     False   \n",
      "2  SUR        True  officially-assigned      True   \n",
      "3  NAM        True  officially-assigned      True   \n",
      "4  GUI        True  officially-assigned      True   \n",
      "5  VAN        True  officially-assigned      True   \n",
      "6  SAM        True  officially-assigned      True   \n",
      "7  FRA        True  officially-assigned      True   \n",
      "8  AND        True  officially-assigned      True   \n",
      "9  AZE        True  officially-assigned      True   \n",
      "\n",
      "                                          currencies  ...  \\\n",
      "0  {'BBD': {'name': 'Barbadian dollar', 'symbol':...  ...   \n",
      "1           {'EUR': {'name': 'Euro', 'symbol': '€'}}  ...   \n",
      "2  {'SRD': {'name': 'Surinamese dollar', 'symbol'...  ...   \n",
      "3  {'NAD': {'name': 'Namibian dollar', 'symbol': ...  ...   \n",
      "4  {'GNF': {'name': 'Guinean franc', 'symbol': 'F...  ...   \n",
      "5  {'VUV': {'name': 'Vanuatu vatu', 'symbol': 'Vt'}}  ...   \n",
      "6    {'WST': {'name': 'Samoan tālā', 'symbol': 'T'}}  ...   \n",
      "7           {'EUR': {'name': 'Euro', 'symbol': '€'}}  ...   \n",
      "8           {'EUR': {'name': 'Euro', 'symbol': '€'}}  ...   \n",
      "9  {'AZN': {'name': 'Azerbaijani manat', 'symbol'...  ...   \n",
      "\n",
      "                                   car  \\\n",
      "0   {'signs': ['BDS'], 'side': 'left'}   \n",
      "1    {'signs': ['F'], 'side': 'right'}   \n",
      "2   {'signs': ['SME'], 'side': 'left'}   \n",
      "3   {'signs': ['NAM'], 'side': 'left'}   \n",
      "4   {'signs': ['RG'], 'side': 'right'}   \n",
      "5   {'signs': ['VU'], 'side': 'right'}   \n",
      "6    {'signs': ['WS'], 'side': 'left'}   \n",
      "7    {'signs': ['F'], 'side': 'right'}   \n",
      "8  {'signs': ['AND'], 'side': 'right'}   \n",
      "9   {'signs': ['AZ'], 'side': 'right'}   \n",
      "\n",
      "                                           timezones       continents  \\\n",
      "0                                        [UTC-04:00]  [North America]   \n",
      "1                                        [UTC+04:00]         [Africa]   \n",
      "2                                        [UTC-03:00]  [South America]   \n",
      "3                                        [UTC+01:00]         [Africa]   \n",
      "4                                              [UTC]         [Africa]   \n",
      "5                                        [UTC+11:00]        [Oceania]   \n",
      "6                                        [UTC+13:00]        [Oceania]   \n",
      "7  [UTC-10:00, UTC-09:30, UTC-09:00, UTC-08:00, U...         [Europe]   \n",
      "8                                        [UTC+01:00]         [Europe]   \n",
      "9                                        [UTC+04:00]           [Asia]   \n",
      "\n",
      "                                               flags  \\\n",
      "0  {'png': 'https://flagcdn.com/w320/bb.png', 'sv...   \n",
      "1  {'png': 'https://flagcdn.com/w320/re.png', 'sv...   \n",
      "2  {'png': 'https://flagcdn.com/w320/sr.png', 'sv...   \n",
      "3  {'png': 'https://flagcdn.com/w320/na.png', 'sv...   \n",
      "4  {'png': 'https://flagcdn.com/w320/gn.png', 'sv...   \n",
      "5  {'png': 'https://flagcdn.com/w320/vu.png', 'sv...   \n",
      "6  {'png': 'https://flagcdn.com/w320/ws.png', 'sv...   \n",
      "7  {'png': 'https://flagcdn.com/w320/fr.png', 'sv...   \n",
      "8  {'png': 'https://flagcdn.com/w320/ad.png', 'sv...   \n",
      "9  {'png': 'https://flagcdn.com/w320/az.png', 'sv...   \n",
      "\n",
      "                                          coatOfArms startOfWeek  \\\n",
      "0  {'png': 'https://mainfacts.com/media/images/co...      monday   \n",
      "1                                                 {}      monday   \n",
      "2  {'png': 'https://mainfacts.com/media/images/co...      monday   \n",
      "3  {'png': 'https://mainfacts.com/media/images/co...      monday   \n",
      "4  {'png': 'https://mainfacts.com/media/images/co...      monday   \n",
      "5  {'png': 'https://mainfacts.com/media/images/co...      monday   \n",
      "6  {'png': 'https://mainfacts.com/media/images/co...      monday   \n",
      "7  {'png': 'https://mainfacts.com/media/images/co...      monday   \n",
      "8  {'png': 'https://mainfacts.com/media/images/co...      monday   \n",
      "9  {'png': 'https://mainfacts.com/media/images/co...      monday   \n",
      "\n",
      "                     capitalInfo  \\\n",
      "0     {'latlng': [13.1, -59.62]}   \n",
      "1    {'latlng': [-20.88, 55.45]}   \n",
      "2     {'latlng': [5.83, -55.17]}   \n",
      "3    {'latlng': [-22.57, 17.08]}   \n",
      "4       {'latlng': [9.5, -13.7]}   \n",
      "5   {'latlng': [-17.73, 168.32]}   \n",
      "6  {'latlng': [-13.82, -171.77]}   \n",
      "7      {'latlng': [48.87, 2.33]}   \n",
      "8       {'latlng': [42.5, 1.52]}   \n",
      "9     {'latlng': [40.38, 49.87]}   \n",
      "\n",
      "                                          postalCode  \\\n",
      "0  {'format': 'BB#####', 'regex': '^(?:BB)*(\\d{5}...   \n",
      "1  {'format': '#####', 'regex': '^((97|98)(4|7|8)...   \n",
      "2                                                NaN   \n",
      "3                                                NaN   \n",
      "4                                                NaN   \n",
      "5                                                NaN   \n",
      "6                                                NaN   \n",
      "7          {'format': '#####', 'regex': '^(\\d{5})$'}   \n",
      "8   {'format': 'AD###', 'regex': '^(?:AD)*(\\d{3})$'}   \n",
      "9  {'format': 'AZ ####', 'regex': '^(?:AZ)*(\\d{4}...   \n",
      "\n",
      "                                    borders            gini  \n",
      "0                                       NaN             NaN  \n",
      "1                                       NaN             NaN  \n",
      "2                           [BRA, GUF, GUY]  {'1999': 57.9}  \n",
      "3                      [AGO, BWA, ZAF, ZMB]  {'2015': 59.1}  \n",
      "4            [CIV, GNB, LBR, MLI, SEN, SLE]  {'2012': 33.7}  \n",
      "5                                       NaN  {'2010': 37.6}  \n",
      "6                                       NaN  {'2013': 38.7}  \n",
      "7  [AND, BEL, DEU, ITA, LUX, MCO, ESP, CHE]  {'2018': 32.4}  \n",
      "8                                [FRA, ESP]             NaN  \n",
      "9                 [ARM, GEO, IRN, RUS, TUR]  {'2005': 26.6}  \n",
      "\n",
      "[10 rows x 35 columns]\n"
     ]
    }
   ],
   "source": [
    "print(df.head(10))"
   ]
  }
 ],
 "metadata": {
  "kernelspec": {
   "display_name": "Python 3",
   "language": "python",
   "name": "python3"
  },
  "language_info": {
   "codemirror_mode": {
    "name": "ipython",
    "version": 3
   },
   "file_extension": ".py",
   "mimetype": "text/x-python",
   "name": "python",
   "nbconvert_exporter": "python",
   "pygments_lexer": "ipython3",
   "version": "3.10.4"
  },
  "orig_nbformat": 4,
  "vscode": {
   "interpreter": {
    "hash": "3ad933181bd8a04b432d3370b9dc3b0662ad032c4dfaa4e4f1596c548f763858"
   }
  }
 },
 "nbformat": 4,
 "nbformat_minor": 2
}
